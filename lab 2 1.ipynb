{
 "cells": [
  {
   "cell_type": "code",
   "execution_count": 1,
   "id": "2234a769-2980-407b-ad0c-b757cd64b37a",
   "metadata": {},
   "outputs": [
    {
     "name": "stdout",
     "output_type": "stream",
     "text": [
      "Maha Bharath\n"
     ]
    }
   ],
   "source": [
    "S1=\"Maha Bharath\"\n",
    "print(S1)"
   ]
  },
  {
   "cell_type": "code",
   "execution_count": 12,
   "id": "85adfe22-431a-4de8-a6a6-157ad047a70a",
   "metadata": {},
   "outputs": [
    {
     "data": {
      "text/plain": [
       "'mAHA bHARATH'"
      ]
     },
     "execution_count": 12,
     "metadata": {},
     "output_type": "execute_result"
    }
   ],
   "source": [
    "S1.swapcase()"
   ]
  },
  {
   "cell_type": "code",
   "execution_count": 4,
   "id": "6da1584a-a2bf-4725-9129-5ba9487336d0",
   "metadata": {},
   "outputs": [
    {
     "data": {
      "text/plain": [
       "'Bharath'"
      ]
     },
     "execution_count": 4,
     "metadata": {},
     "output_type": "execute_result"
    }
   ],
   "source": [
    "S1[5:]"
   ]
  },
  {
   "cell_type": "code",
   "execution_count": 5,
   "id": "4706ca66-782b-4c5f-9699-5a9b565ee4d9",
   "metadata": {},
   "outputs": [
    {
     "data": {
      "text/plain": [
       "'BharathBharathBharath'"
      ]
     },
     "execution_count": 5,
     "metadata": {},
     "output_type": "execute_result"
    }
   ],
   "source": [
    "S1[5:]*3"
   ]
  },
  {
   "cell_type": "code",
   "execution_count": 6,
   "id": "2c2484ca-b3aa-4b19-9362-713da3f5fae1",
   "metadata": {},
   "outputs": [
    {
     "data": {
      "text/plain": [
       "'Mera Bharath'"
      ]
     },
     "execution_count": 6,
     "metadata": {},
     "output_type": "execute_result"
    }
   ],
   "source": [
    "S1.replace(\"Maha\",\"Mera\")"
   ]
  },
  {
   "cell_type": "code",
   "execution_count": 8,
   "id": "0938bdb2-20a1-44f8-9590-7ff67ecd4152",
   "metadata": {},
   "outputs": [
    {
     "data": {
      "text/plain": [
       "'Mera Bharath Mahan'"
      ]
     },
     "execution_count": 8,
     "metadata": {},
     "output_type": "execute_result"
    }
   ],
   "source": [
    "S1.replace(\"Maha\",\"Mera\")+(\" Mahan\")"
   ]
  }
 ],
 "metadata": {
  "kernelspec": {
   "display_name": "Python 3 (ipykernel)",
   "language": "python",
   "name": "python3"
  },
  "language_info": {
   "codemirror_mode": {
    "name": "ipython",
    "version": 3
   },
   "file_extension": ".py",
   "mimetype": "text/x-python",
   "name": "python",
   "nbconvert_exporter": "python",
   "pygments_lexer": "ipython3",
   "version": "3.11.7"
  }
 },
 "nbformat": 4,
 "nbformat_minor": 5
}
