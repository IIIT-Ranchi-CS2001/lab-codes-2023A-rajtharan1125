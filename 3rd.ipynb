{
 "cells": [
  {
   "cell_type": "code",
   "execution_count": 6,
   "id": "3fb0f883-a8a9-41a7-96d9-7aa1e5212aac",
   "metadata": {},
   "outputs": [
    {
     "name": "stdout",
     "output_type": "stream",
     "text": [
      "Numbes -- Squares\n",
      "1 1\n",
      "2 4\n",
      "3 9\n",
      "4 16\n",
      "5 25\n"
     ]
    }
   ],
   "source": [
    "import math\n",
    "print(\"Numbes -- Squares\")\n",
    "i=1\n",
    "while i in range(6):\n",
    "    print(i,i**2)\n",
    "    i+=1;\n",
    "        "
   ]
  },
  {
   "cell_type": "code",
   "execution_count": 7,
   "id": "41a72337-e83e-4c42-bded-b19f44474875",
   "metadata": {},
   "outputs": [
    {
     "name": "stdin",
     "output_type": "stream",
     "text": [
      "Enter a number:  125\n"
     ]
    },
    {
     "name": "stdout",
     "output_type": "stream",
     "text": [
      "Number: 125\n",
      "Sum of digits: 8\n"
     ]
    }
   ],
   "source": [
    "number = int(input(\"Enter a number: \"))\n",
    "original_number = number\n",
    "sum_of_digits = 0\n",
    "\n",
    "while number > 0:\n",
    "    sum_of_digits += number % 10\n",
    "    number //= 10\n",
    "\n",
    "print(f\"Number: {original_number}\")\n",
    "print(f\"Sum of digits: {sum_of_digits}\")\n"
   ]
  },
  {
   "cell_type": "code",
   "execution_count": 3,
   "id": "b6d106b8-7b0c-4fcc-88c8-0d950f9bd0a4",
   "metadata": {},
   "outputs": [
    {
     "name": "stdin",
     "output_type": "stream",
     "text": [
      "Enter the number of terms:  9\n"
     ]
    },
    {
     "name": "stdout",
     "output_type": "stream",
     "text": [
      "0 1 1 2 3 5 8 13 21 "
     ]
    }
   ],
   "source": [
    "n = int(input(\"Enter the number of terms: \"))\n",
    "a, b = 0, 1\n",
    "count = 0\n",
    "\n",
    "while count < n:\n",
    "    print(a, end=' ')\n",
    "    a, b = b, a + b\n",
    "    count += 1\n"
   ]
  },
  {
   "cell_type": "code",
   "execution_count": 4,
   "id": "32cca3f3-b0b1-496e-8360-77b6b0940172",
   "metadata": {},
   "outputs": [
    {
     "name": "stdin",
     "output_type": "stream",
     "text": [
      "enter the number :  4\n",
      "enter limit :  10\n"
     ]
    },
    {
     "name": "stdout",
     "output_type": "stream",
     "text": [
      "4 * 1 = 4\n",
      "4 * 2 = 8\n",
      "4 * 3 = 12\n",
      "4 * 4 = 16\n",
      "4 * 5 = 20\n",
      "4 * 6 = 24\n",
      "4 * 7 = 28\n",
      "4 * 8 = 32\n",
      "4 * 9 = 36\n",
      "4 * 10 = 40\n"
     ]
    }
   ],
   "source": [
    "x=int(input(\"enter the number : \"))\n",
    "n=int(input(\"enter limit : \"))\n",
    "for a in range(n):\n",
    "    print(x,\"*\",a+1,\"=\", x*(a+1))"
   ]
  },
  {
   "cell_type": "code",
   "execution_count": 5,
   "id": "60deac37-d2a1-475c-adc1-bf024645ed0b",
   "metadata": {},
   "outputs": [
    {
     "name": "stdin",
     "output_type": "stream",
     "text": [
      "Enter the string:  rajtharan\n"
     ]
    },
    {
     "name": "stdout",
     "output_type": "stream",
     "text": [
      "The string 'rajtharan' : is alphanumeric.\n"
     ]
    }
   ],
   "source": [
    "s=str(input(\"Enter the string: \"))\n",
    "is_aphanumeric=s.isalnum()\n",
    "if(is_aphanumeric==True):\n",
    "    print(f\"The string '{s}' : is alphanumeric.\")\n",
    "else:\n",
    "    print(f\"The string '{s}' : is not alphanumeric.\")"
   ]
  },
  {
   "cell_type": "code",
   "execution_count": 8,
   "id": "bcbf88c2-779d-4e46-89fb-07ec6285db00",
   "metadata": {},
   "outputs": [
    {
     "name": "stdin",
     "output_type": "stream",
     "text": [
      "Enter your string :  BODA RAJ THARAN\n",
      "Enter the character of which you want to find the ocurrence :  A\n"
     ]
    },
    {
     "name": "stdout",
     "output_type": "stream",
     "text": [
      "Number of occurence of A in given string is 4\n"
     ]
    }
   ],
   "source": [
    "s=input(\"Enter your string : \")\n",
    "b=input(\"Enter the character of which you want to find the ocurrence : \")\n",
    "\n",
    "count=0\n",
    "i=0\n",
    "a=len(s)\n",
    "while(i<a):\n",
    "    if(s[i]==b):\n",
    "        count+=1\n",
    "    i+=1    \n",
    "\n",
    "print(\"Number of occurence of\",b,\"in given string is\",count)"
   ]
  },
  {
   "cell_type": "code",
   "execution_count": null,
   "id": "2f65272b-1e8c-4e20-8365-a8e38ff2f4b6",
   "metadata": {},
   "outputs": [],
   "source": []
  }
 ],
 "metadata": {
  "kernelspec": {
   "display_name": "Python 3 (ipykernel)",
   "language": "python",
   "name": "python3"
  },
  "language_info": {
   "codemirror_mode": {
    "name": "ipython",
    "version": 3
   },
   "file_extension": ".py",
   "mimetype": "text/x-python",
   "name": "python",
   "nbconvert_exporter": "python",
   "pygments_lexer": "ipython3",
   "version": "3.11.7"
  }
 },
 "nbformat": 4,
 "nbformat_minor": 5
}
