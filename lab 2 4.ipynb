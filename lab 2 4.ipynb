{
 "cells": [
  {
   "cell_type": "code",
   "execution_count": 22,
   "id": "389c4669-4425-468d-9769-e63f5c18a246",
   "metadata": {},
   "outputs": [
    {
     "name": "stdin",
     "output_type": "stream",
     "text": [
      "Enter student's name:  boda raj tharan\n",
      "Enter roll number:  34\n",
      "Enter marks secured out of 100:  45\n"
     ]
    },
    {
     "name": "stdout",
     "output_type": "stream",
     "text": [
      "Grade Point: 0.0\n",
      "Remark: Fail\n"
     ]
    }
   ],
   "source": [
    "name = input(\"Enter student's name: \")\n",
    "roll_number = input(\"Enter roll number: \")\n",
    "marks = float(input(\"Enter marks secured out of 100: \"))\n",
    "\n",
    "if marks >= 90:\n",
    "    grade_point = 10\n",
    "    remark = \"Excellent\"\n",
    "elif marks >= 80:\n",
    "    grade_point = 9\n",
    "    remark = \"Very Good\"\n",
    "elif marks >= 70:\n",
    "    grade_point = 8\n",
    "    remark = \"Good\"\n",
    "elif marks >= 60:\n",
    "    grade_point = 7\n",
    "    remark = \"Fair\"\n",
    "elif marks >= 50:\n",
    "    grade_point = 6\n",
    "    remark = \"Pass\"\n",
    "else:\n",
    "    grade_point = 0.0\n",
    "    remark = \"Fail\"\n",
    "\n",
    "\n",
    "print(f\"Grade Point: {grade_point}\")\n",
    "print(f\"Remark: {remark}\")\n",
    "\n"
   ]
  },
  {
   "cell_type": "code",
   "execution_count": null,
   "id": "81cf0012-df6b-4d94-a00a-bba963d12ae0",
   "metadata": {},
   "outputs": [],
   "source": []
  }
 ],
 "metadata": {
  "kernelspec": {
   "display_name": "Python 3 (ipykernel)",
   "language": "python",
   "name": "python3"
  },
  "language_info": {
   "codemirror_mode": {
    "name": "ipython",
    "version": 3
   },
   "file_extension": ".py",
   "mimetype": "text/x-python",
   "name": "python",
   "nbconvert_exporter": "python",
   "pygments_lexer": "ipython3",
   "version": "3.11.7"
  }
 },
 "nbformat": 4,
 "nbformat_minor": 5
}
