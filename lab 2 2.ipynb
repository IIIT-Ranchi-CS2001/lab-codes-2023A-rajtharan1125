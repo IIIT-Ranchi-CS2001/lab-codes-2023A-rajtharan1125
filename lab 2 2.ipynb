{
 "cells": [
  {
   "cell_type": "code",
   "execution_count": 2,
   "id": "8eadfa9f-e5d2-4850-a6f2-075fe3821ec2",
   "metadata": {},
   "outputs": [
    {
     "data": {
      "text/plain": [
       "17"
      ]
     },
     "execution_count": 2,
     "metadata": {},
     "output_type": "execute_result"
    }
   ],
   "source": [
    "S=\"Ba Ba Black Sheep\"\n",
    "len(S)\n",
    "\n"
   ]
  },
  {
   "cell_type": "code",
   "execution_count": 9,
   "id": "dadf09d7-24f1-410d-8229-f94e87ed6192",
   "metadata": {},
   "outputs": [
    {
     "data": {
      "text/plain": [
       "14"
      ]
     },
     "execution_count": 9,
     "metadata": {},
     "output_type": "execute_result"
    }
   ],
   "source": [
    "S.find('e')"
   ]
  },
  {
   "cell_type": "code",
   "execution_count": 10,
   "id": "49b89ae7-5020-4690-be27-193d7a420bde",
   "metadata": {},
   "outputs": [
    {
     "data": {
      "text/plain": [
       "3"
      ]
     },
     "execution_count": 10,
     "metadata": {},
     "output_type": "execute_result"
    }
   ],
   "source": [
    "S.count('a')"
   ]
  },
  {
   "cell_type": "code",
   "execution_count": 13,
   "id": "3cf568e7-d341-4964-935d-b1688025b3e9",
   "metadata": {},
   "outputs": [
    {
     "data": {
      "text/plain": [
       "'Ta Ta Black Sheep'"
      ]
     },
     "execution_count": 13,
     "metadata": {},
     "output_type": "execute_result"
    }
   ],
   "source": [
    "S.replace(\"Ba\",\"Ta\")"
   ]
  },
  {
   "cell_type": "code",
   "execution_count": null,
   "id": "968bb20b-f919-48a8-a5a6-323f2c74aafe",
   "metadata": {},
   "outputs": [],
   "source": []
  }
 ],
 "metadata": {
  "kernelspec": {
   "display_name": "Python 3 (ipykernel)",
   "language": "python",
   "name": "python3"
  },
  "language_info": {
   "codemirror_mode": {
    "name": "ipython",
    "version": 3
   },
   "file_extension": ".py",
   "mimetype": "text/x-python",
   "name": "python",
   "nbconvert_exporter": "python",
   "pygments_lexer": "ipython3",
   "version": "3.11.7"
  }
 },
 "nbformat": 4,
 "nbformat_minor": 5
}
