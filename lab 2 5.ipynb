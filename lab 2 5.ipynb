{
 "cells": [
  {
   "cell_type": "code",
   "execution_count": 1,
   "id": "e89ee5af-c42e-434f-85c0-6793e6c1d652",
   "metadata": {},
   "outputs": [
    {
     "name": "stdin",
     "output_type": "stream",
     "text": [
      "Enter value of a:  5\n",
      "Enter value of b:  6\n",
      "Enter value of c:  7\n"
     ]
    },
    {
     "name": "stdout",
     "output_type": "stream",
     "text": [
      "The roots are complex roots, realpart: -0.6 imaginarypart: 1.0198039027185568\n"
     ]
    }
   ],
   "source": [
    "import math\n",
    "from math import *\n",
    "a=int(input(\"Enter value of a: \"))\n",
    "b=int(input(\"Enter value of b: \"))\n",
    "c=int(input(\"Enter value of c: \"))\n",
    "d=(b**2)-4*a*c\n",
    "if(d==0):\n",
    "    print(\"The roots are real repeated roots:\",-b/(2*a))\n",
    "elif(d>0):\n",
    "    print(\"The roots are real distinct roots:\",(-b+d*(1/2))/2*a,\"and\",(-b-d*(1/2))/2*a)\n",
    "else:\n",
    "    print(\"The roots are complex roots, realpart:\",-b/(2*a),\"imaginarypart:\",math.sqrt(-d)/(2*a))"
   ]
  },
  {
   "cell_type": "code",
   "execution_count": null,
   "id": "508f2f3f-9d3d-442a-9ddd-7e1a99839bda",
   "metadata": {},
   "outputs": [],
   "source": []
  }
 ],
 "metadata": {
  "kernelspec": {
   "display_name": "Python 3 (ipykernel)",
   "language": "python",
   "name": "python3"
  },
  "language_info": {
   "codemirror_mode": {
    "name": "ipython",
    "version": 3
   },
   "file_extension": ".py",
   "mimetype": "text/x-python",
   "name": "python",
   "nbconvert_exporter": "python",
   "pygments_lexer": "ipython3",
   "version": "3.11.7"
  }
 },
 "nbformat": 4,
 "nbformat_minor": 5
}
